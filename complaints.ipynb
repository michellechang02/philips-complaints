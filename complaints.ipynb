{
 "cells": [
  {
   "cell_type": "code",
   "execution_count": 3,
   "metadata": {},
   "outputs": [
    {
     "name": "stdout",
     "output_type": "stream",
     "text": [
      "Defaulting to user installation because normal site-packages is not writeable\n",
      "^C\n",
      "\u001b[31mERROR: Operation cancelled by user\u001b[0m\u001b[31m\n",
      "\u001b[0mNote: you may need to restart the kernel to use updated packages.\n"
     ]
    }
   ],
   "source": [
    "## Run pip install -r requirements.txt\n",
    "%pip install -r requirements.txt\n"
   ]
  },
  {
   "cell_type": "code",
   "execution_count": 4,
   "metadata": {},
   "outputs": [
    {
     "ename": "ModuleNotFoundError",
     "evalue": "No module named 'pandas'",
     "output_type": "error",
     "traceback": [
      "\u001b[0;31m---------------------------------------------------------------------------\u001b[0m",
      "\u001b[0;31mModuleNotFoundError\u001b[0m                       Traceback (most recent call last)",
      "Cell \u001b[0;32mIn[4], line 1\u001b[0m\n\u001b[0;32m----> 1\u001b[0m \u001b[38;5;28;01mimport\u001b[39;00m \u001b[38;5;21;01mpandas\u001b[39;00m \u001b[38;5;28;01mas\u001b[39;00m \u001b[38;5;21;01mpd\u001b[39;00m\n\u001b[1;32m      2\u001b[0m \u001b[38;5;28;01mimport\u001b[39;00m \u001b[38;5;21;01mmatplotlib\u001b[39;00m\u001b[38;5;21;01m.\u001b[39;00m\u001b[38;5;21;01mpyplot\u001b[39;00m \u001b[38;5;28;01mas\u001b[39;00m \u001b[38;5;21;01mplt\u001b[39;00m\n\u001b[1;32m      3\u001b[0m \u001b[38;5;28;01mimport\u001b[39;00m \u001b[38;5;21;01mnumpy\u001b[39;00m \u001b[38;5;28;01mas\u001b[39;00m \u001b[38;5;21;01mnp\u001b[39;00m\n",
      "\u001b[0;31mModuleNotFoundError\u001b[0m: No module named 'pandas'"
     ]
    }
   ],
   "source": [
    "import pandas as pd\n",
    "import matplotlib.pyplot as plt\n",
    "import numpy as np\n",
    "from sklearn.model_selection import train_test_split\n",
    "from sklearn.linear_model import LogisticRegression\n",
    "from sklearn.metrics import accuracy_score, confusion_matrix, classification_report\n",
    "from sklearn.preprocessing import StandardScaler\n",
    "from mpl_toolkits.mplot3d import Axes3D"
   ]
  },
  {
   "cell_type": "code",
   "execution_count": 6,
   "metadata": {},
   "outputs": [
    {
     "data": {
      "text/html": [
       "<div>\n",
       "<style scoped>\n",
       "    .dataframe tbody tr th:only-of-type {\n",
       "        vertical-align: middle;\n",
       "    }\n",
       "\n",
       "    .dataframe tbody tr th {\n",
       "        vertical-align: top;\n",
       "    }\n",
       "\n",
       "    .dataframe thead th {\n",
       "        text-align: right;\n",
       "    }\n",
       "</style>\n",
       "<table border=\"1\" class=\"dataframe\">\n",
       "  <thead>\n",
       "    <tr style=\"text-align: right;\">\n",
       "      <th></th>\n",
       "      <th>Notification Number</th>\n",
       "      <th>er key for sap and saptw notifications</th>\n",
       "      <th>Notification Date</th>\n",
       "      <th>Material Number</th>\n",
       "      <th>Material Description</th>\n",
       "      <th>Brand</th>\n",
       "      <th>Business</th>\n",
       "      <th>Code Description</th>\n",
       "      <th>SAP Damage Code Text</th>\n",
       "      <th>Short Text</th>\n",
       "      <th>...</th>\n",
       "      <th>BreakDown Duration</th>\n",
       "      <th>Build Date</th>\n",
       "      <th>Ship To Customer</th>\n",
       "      <th>Ship To Party</th>\n",
       "      <th>Sold To Customer</th>\n",
       "      <th>Sold To Party</th>\n",
       "      <th>OOB Failure</th>\n",
       "      <th>Material Quantity</th>\n",
       "      <th>subject_long_text sor sap and srctw</th>\n",
       "      <th>Quantity</th>\n",
       "    </tr>\n",
       "  </thead>\n",
       "  <tbody>\n",
       "    <tr>\n",
       "      <th>0</th>\n",
       "      <td>100022</td>\n",
       "      <td>319015549.0</td>\n",
       "      <td>2024-09-05 06:24:00</td>\n",
       "      <td>1153533</td>\n",
       "      <td>Inspiredﾌﾛｰ用回路ﾁｬﾝﾊﾞ成人(F10)51007798</td>\n",
       "      <td>AC611</td>\n",
       "      <td>PATIENT INTERFACE</td>\n",
       "      <td>AC611 _ LEAK</td>\n",
       "      <td>LEAK</td>\n",
       "      <td>Product malfunction / General Catalog Profile ...</td>\n",
       "      <td>...</td>\n",
       "      <td>NaN</td>\n",
       "      <td>NaN</td>\n",
       "      <td>NaN</td>\n",
       "      <td>NaN</td>\n",
       "      <td>30302881.0</td>\n",
       "      <td>Yagami Co.,Ltd.</td>\n",
       "      <td>No</td>\n",
       "      <td>1.0</td>\n",
       "      <td>NaN</td>\n",
       "      <td>1.0</td>\n",
       "    </tr>\n",
       "    <tr>\n",
       "      <th>1</th>\n",
       "      <td>101106</td>\n",
       "      <td>319017578.0</td>\n",
       "      <td>2024-09-05 18:14:00</td>\n",
       "      <td>1104925</td>\n",
       "      <td>L PICO NASAL MASK W/ HGR JPN</td>\n",
       "      <td>PICO</td>\n",
       "      <td>PATIENT INTERFACE</td>\n",
       "      <td>PICO _ PHYS</td>\n",
       "      <td>PHYSICAL DAMAGE</td>\n",
       "      <td>Operation manual failure / PICO MASK /Japan</td>\n",
       "      <td>...</td>\n",
       "      <td>NaN</td>\n",
       "      <td>NaN</td>\n",
       "      <td>NaN</td>\n",
       "      <td>NaN</td>\n",
       "      <td>60600057.0</td>\n",
       "      <td>SRC - Philips Japan, Ltd. - 539912</td>\n",
       "      <td>Yes</td>\n",
       "      <td>3.0</td>\n",
       "      <td>* 09/05/2024 10:39:50 EST (NMARRONE)\\n* Per Er...</td>\n",
       "      <td>3.0</td>\n",
       "    </tr>\n",
       "    <tr>\n",
       "      <th>2</th>\n",
       "      <td>101129</td>\n",
       "      <td>319017661.0</td>\n",
       "      <td>2024-09-05 18:14:00</td>\n",
       "      <td>1128652</td>\n",
       "      <td>S, AF541 EE LK 1, Capstrap, JAPAN, 10 PK</td>\n",
       "      <td>AF541</td>\n",
       "      <td>PATIENT INTERFACE</td>\n",
       "      <td>AF541 _ DMGP</td>\n",
       "      <td>DAMAGE,PHYSICAL</td>\n",
       "      <td>Sizing gauge is broken/AF541 Oro-Nasal Mask/JP</td>\n",
       "      <td>...</td>\n",
       "      <td>NaN</td>\n",
       "      <td>NaN</td>\n",
       "      <td>NaN</td>\n",
       "      <td>NaN</td>\n",
       "      <td>60600057.0</td>\n",
       "      <td>SRC - Philips Japan, Ltd. - 539912</td>\n",
       "      <td>Yes</td>\n",
       "      <td>1.0</td>\n",
       "      <td>* 09/05/2024 10:52:31 EST (NMARRONE)\\n* Per Er...</td>\n",
       "      <td>1.0</td>\n",
       "    </tr>\n",
       "    <tr>\n",
       "      <th>3</th>\n",
       "      <td>101249</td>\n",
       "      <td>319018673.0</td>\n",
       "      <td>2024-09-05 18:19:00</td>\n",
       "      <td>312149</td>\n",
       "      <td>Disp Exhalation Port Pk/10</td>\n",
       "      <td>PI ACCESSORIES</td>\n",
       "      <td>PATIENT INTERFACE</td>\n",
       "      <td>PI ACCESSORIES _ CONT</td>\n",
       "      <td>CONTAMINATION OBSERVED</td>\n",
       "      <td>foreign substance (hair)/TRILOGY/JAPAN</td>\n",
       "      <td>...</td>\n",
       "      <td>NaN</td>\n",
       "      <td>NaN</td>\n",
       "      <td>NaN</td>\n",
       "      <td>NaN</td>\n",
       "      <td>60600057.0</td>\n",
       "      <td>SRC - Philips Japan, Ltd. - 539912</td>\n",
       "      <td>Yes</td>\n",
       "      <td>1.0</td>\n",
       "      <td>* 09/05/2024 11:34:15 EST (NMARRONE)\\n* Per Er...</td>\n",
       "      <td>1.0</td>\n",
       "    </tr>\n",
       "    <tr>\n",
       "      <th>4</th>\n",
       "      <td>101258</td>\n",
       "      <td>319018807.0</td>\n",
       "      <td>2024-09-05 18:19:00</td>\n",
       "      <td>312149</td>\n",
       "      <td>Disp Exhalation Port Pk/10</td>\n",
       "      <td>PI ACCESSORIES</td>\n",
       "      <td>PATIENT INTERFACE</td>\n",
       "      <td>PI ACCESSORIES _ COSM</td>\n",
       "      <td>COSMETIC DAMAGE</td>\n",
       "      <td>product scratch/ General Catalog Profile/ Japan</td>\n",
       "      <td>...</td>\n",
       "      <td>NaN</td>\n",
       "      <td>NaN</td>\n",
       "      <td>NaN</td>\n",
       "      <td>NaN</td>\n",
       "      <td>60600057.0</td>\n",
       "      <td>SRC - Philips Japan, Ltd. - 539912</td>\n",
       "      <td>Yes</td>\n",
       "      <td>1.0</td>\n",
       "      <td>* 09/05/2024 11:36:49 EST (NMARRONE)\\n* Per Er...</td>\n",
       "      <td>1.0</td>\n",
       "    </tr>\n",
       "  </tbody>\n",
       "</table>\n",
       "<p>5 rows × 24 columns</p>\n",
       "</div>"
      ],
      "text/plain": [
       "  Notification Number  er key for sap and saptw notifications  \\\n",
       "0              100022                             319015549.0   \n",
       "1              101106                             319017578.0   \n",
       "2              101129                             319017661.0   \n",
       "3              101249                             319018673.0   \n",
       "4              101258                             319018807.0   \n",
       "\n",
       "    Notification Date Material Number  \\\n",
       "0 2024-09-05 06:24:00         1153533   \n",
       "1 2024-09-05 18:14:00         1104925   \n",
       "2 2024-09-05 18:14:00         1128652   \n",
       "3 2024-09-05 18:19:00          312149   \n",
       "4 2024-09-05 18:19:00          312149   \n",
       "\n",
       "                       Material Description           Brand  \\\n",
       "0        Inspiredﾌﾛｰ用回路ﾁｬﾝﾊﾞ成人(F10)51007798           AC611   \n",
       "1              L PICO NASAL MASK W/ HGR JPN            PICO   \n",
       "2  S, AF541 EE LK 1, Capstrap, JAPAN, 10 PK           AF541   \n",
       "3                Disp Exhalation Port Pk/10  PI ACCESSORIES   \n",
       "4                Disp Exhalation Port Pk/10  PI ACCESSORIES   \n",
       "\n",
       "            Business       Code Description    SAP Damage Code Text  \\\n",
       "0  PATIENT INTERFACE           AC611 _ LEAK                    LEAK   \n",
       "1  PATIENT INTERFACE            PICO _ PHYS         PHYSICAL DAMAGE   \n",
       "2  PATIENT INTERFACE           AF541 _ DMGP         DAMAGE,PHYSICAL   \n",
       "3  PATIENT INTERFACE  PI ACCESSORIES _ CONT  CONTAMINATION OBSERVED   \n",
       "4  PATIENT INTERFACE  PI ACCESSORIES _ COSM         COSMETIC DAMAGE   \n",
       "\n",
       "                                          Short Text  ... BreakDown Duration  \\\n",
       "0  Product malfunction / General Catalog Profile ...  ...                NaN   \n",
       "1        Operation manual failure / PICO MASK /Japan  ...                NaN   \n",
       "2     Sizing gauge is broken/AF541 Oro-Nasal Mask/JP  ...                NaN   \n",
       "3             foreign substance (hair)/TRILOGY/JAPAN  ...                NaN   \n",
       "4    product scratch/ General Catalog Profile/ Japan  ...                NaN   \n",
       "\n",
       "   Build Date Ship To Customer  Ship To Party  Sold To Customer  \\\n",
       "0         NaN              NaN            NaN        30302881.0   \n",
       "1         NaN              NaN            NaN        60600057.0   \n",
       "2         NaN              NaN            NaN        60600057.0   \n",
       "3         NaN              NaN            NaN        60600057.0   \n",
       "4         NaN              NaN            NaN        60600057.0   \n",
       "\n",
       "                        Sold To Party  OOB Failure Material Quantity  \\\n",
       "0                     Yagami Co.,Ltd.           No               1.0   \n",
       "1  SRC - Philips Japan, Ltd. - 539912          Yes               3.0   \n",
       "2  SRC - Philips Japan, Ltd. - 539912          Yes               1.0   \n",
       "3  SRC - Philips Japan, Ltd. - 539912          Yes               1.0   \n",
       "4  SRC - Philips Japan, Ltd. - 539912          Yes               1.0   \n",
       "\n",
       "                 subject_long_text sor sap and srctw Quantity  \n",
       "0                                                NaN      1.0  \n",
       "1  * 09/05/2024 10:39:50 EST (NMARRONE)\\n* Per Er...      3.0  \n",
       "2  * 09/05/2024 10:52:31 EST (NMARRONE)\\n* Per Er...      1.0  \n",
       "3  * 09/05/2024 11:34:15 EST (NMARRONE)\\n* Per Er...      1.0  \n",
       "4  * 09/05/2024 11:36:49 EST (NMARRONE)\\n* Per Er...      1.0  \n",
       "\n",
       "[5 rows x 24 columns]"
      ]
     },
     "execution_count": 6,
     "metadata": {},
     "output_type": "execute_result"
    }
   ],
   "source": [
    "import pandas as pd\n",
    "# Load the Excel file\n",
    "complaints_df = pd.read_excel('./PI_Complaints.xlsx')\n",
    "\n",
    "# Display the first few rows of the data\n",
    "complaints_df.head()"
   ]
  },
  {
   "cell_type": "markdown",
   "metadata": {},
   "source": [
    "## Data Cleaning: Filter out the columns that aren't important"
   ]
  },
  {
   "cell_type": "code",
   "execution_count": 2,
   "metadata": {},
   "outputs": [
    {
     "ename": "NameError",
     "evalue": "name 'complaints_df' is not defined",
     "output_type": "error",
     "traceback": [
      "\u001b[0;31m---------------------------------------------------------------------------\u001b[0m",
      "\u001b[0;31mNameError\u001b[0m                                 Traceback (most recent call last)",
      "Cell \u001b[0;32mIn[2], line 1\u001b[0m\n\u001b[0;32m----> 1\u001b[0m \u001b[38;5;28mprint\u001b[39m(\u001b[43mcomplaints_df\u001b[49m\u001b[38;5;241m.\u001b[39mdtypes)\n\u001b[1;32m      2\u001b[0m \u001b[38;5;28mprint\u001b[39m(complaints_df\u001b[38;5;241m.\u001b[39misnull()\u001b[38;5;241m.\u001b[39msum())\n\u001b[1;32m      4\u001b[0m columns_to_drop \u001b[38;5;241m=\u001b[39m [\n\u001b[1;32m      5\u001b[0m     \u001b[38;5;124m'\u001b[39m\u001b[38;5;124mNotification Number\u001b[39m\u001b[38;5;124m'\u001b[39m\n\u001b[1;32m      6\u001b[0m ]\n",
      "\u001b[0;31mNameError\u001b[0m: name 'complaints_df' is not defined"
     ]
    }
   ],
   "source": [
    "\n",
    "print(complaints_df.dtypes)\n",
    "print(complaints_df.isnull().sum())\n",
    "\n",
    "columns_to_drop = [\n",
    "    'Notification Number'\n",
    "]\n",
    "# Drop columns\n",
    "complaints_cleaned_df = complaints_df.drop(columns=columns_to_drop)\n",
    "\n",
    "# Display cleaned DataFrame\n",
    "complaints_cleaned_df.head()"
   ]
  },
  {
   "cell_type": "code",
   "execution_count": 1,
   "metadata": {},
   "outputs": [
    {
     "ename": "NameError",
     "evalue": "name 'complaints_df' is not defined",
     "output_type": "error",
     "traceback": [
      "\u001b[0;31m---------------------------------------------------------------------------\u001b[0m",
      "\u001b[0;31mNameError\u001b[0m                                 Traceback (most recent call last)",
      "Cell \u001b[0;32mIn[1], line 13\u001b[0m\n\u001b[1;32m      1\u001b[0m \u001b[38;5;66;03m# complaints_df = complaints_df[[]]\u001b[39;00m\n\u001b[1;32m      2\u001b[0m \n\u001b[1;32m      3\u001b[0m \u001b[38;5;66;03m# needed columns:\u001b[39;00m\n\u001b[0;32m   (...)\u001b[0m\n\u001b[1;32m     11\u001b[0m \n\u001b[1;32m     12\u001b[0m \u001b[38;5;66;03m# complaints_cleaned_df\u001b[39;00m\n\u001b[0;32m---> 13\u001b[0m complaints_cleaned_df \u001b[38;5;241m=\u001b[39m \u001b[43mcomplaints_df\u001b[49m[[\u001b[38;5;124m'\u001b[39m\u001b[38;5;124mNotification Date\u001b[39m\u001b[38;5;124m'\u001b[39m, \u001b[38;5;124m'\u001b[39m\u001b[38;5;124mCountry\u001b[39m\u001b[38;5;124m'\u001b[39m, \u001b[38;5;124m'\u001b[39m\u001b[38;5;124mShort Text\u001b[39m\u001b[38;5;124m'\u001b[39m, \u001b[38;5;124m'\u001b[39m\u001b[38;5;124mSold To Party\u001b[39m\u001b[38;5;124m'\u001b[39m, \u001b[38;5;124m'\u001b[39m\u001b[38;5;124mSap Damage Code Text\u001b[39m\u001b[38;5;124m'\u001b[39m, \u001b[38;5;124m'\u001b[39m\u001b[38;5;124mBrand\u001b[39m\u001b[38;5;124m'\u001b[39m, \u001b[38;5;124m'\u001b[39m\u001b[38;5;124mOOB Failure\u001b[39m\u001b[38;5;124m'\u001b[39m]]\n\u001b[1;32m     15\u001b[0m \u001b[38;5;28mprint\u001b[39m(complaints_cleaned_df)\n",
      "\u001b[0;31mNameError\u001b[0m: name 'complaints_df' is not defined"
     ]
    }
   ],
   "source": [
    "\n",
    "# complaints_df = complaints_df[[]]\n",
    "\n",
    "# needed columns:\n",
    "  # Country\n",
    "  # possibly Sold to Party: maybe a trend among party complaints\n",
    "  # Short Text: short description of complaint/issue\n",
    "  # SAP Damage Code Text: the type of damage\n",
    "  # possibly Brand: could be a trend among brands being an issue\n",
    "  # Notification Date: possible trend among times with complaints\n",
    "  # OOB Failure\n",
    "\n",
    "# complaints_cleaned_df\n",
    "complaints_cleaned_df = complaints_cleaned_df[['Notification Date', 'Country', 'Short Text', 'Sold To Party', 'Sap Damage Code Text', 'Brand', 'OOB Failure']]\n",
    "\n",
    "print(complaints_cleaned_df)"
   ]
  },
  {
   "cell_type": "markdown",
   "metadata": {},
   "source": [
    "## Modeling with ML"
   ]
  },
  {
   "cell_type": "markdown",
   "metadata": {},
   "source": [
    "### Preprocessing: Features, Labels, and Splitting Data into Train and Test"
   ]
  },
  {
   "cell_type": "code",
   "execution_count": null,
   "metadata": {},
   "outputs": [],
   "source": [
    "from sklearn.linear_model import LogisticRegression\n",
    "from sklearn.metrics import accuracy_score"
   ]
  },
  {
   "cell_type": "code",
   "execution_count": null,
   "metadata": {},
   "outputs": [],
   "source": [
    "# Assign appropriate value to seed and conduct 80/20 train-test split with random_state = seed\n",
    "seed = 42\n",
    "X_train, X_test, y_train, y_test = train_test_split(features, target, test_size=0.2, random_state=seed)"
   ]
  },
  {
   "cell_type": "markdown",
   "metadata": {},
   "source": [
    "### Baseline Model: Logistic Regression"
   ]
  },
  {
   "cell_type": "markdown",
   "metadata": {},
   "source": [
    "### Random Forest Classifier"
   ]
  }
 ],
 "metadata": {
  "kernelspec": {
   "display_name": "Python 3",
   "language": "python",
   "name": "python3"
  },
  "language_info": {
   "codemirror_mode": {
    "name": "ipython",
    "version": 3
   },
   "file_extension": ".py",
   "mimetype": "text/x-python",
   "name": "python",
   "nbconvert_exporter": "python",
   "pygments_lexer": "ipython3",
   "version": "3.11.0rc1"
  },
  "orig_nbformat": 4
 },
 "nbformat": 4,
 "nbformat_minor": 2
}
